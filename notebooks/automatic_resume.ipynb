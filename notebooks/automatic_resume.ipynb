{
 "cells": [
  {
   "cell_type": "code",
   "execution_count": 1,
   "metadata": {},
   "outputs": [
    {
     "ename": "FileNotFoundError",
     "evalue": "[Errno 2] No such file or directory: 'full_experience.txt'",
     "output_type": "error",
     "traceback": [
      "\u001b[1;31m---------------------------------------------------------------------------\u001b[0m",
      "\u001b[1;31mFileNotFoundError\u001b[0m                         Traceback (most recent call last)",
      "\u001b[1;32m<ipython-input-1-8600a46df70d>\u001b[0m in \u001b[0;36m<module>\u001b[1;34m\u001b[0m\n\u001b[0;32m      1\u001b[0m job_description = '''Sto gestendo una posizione per una figura di Team Leader per conto di una realtà finale ultra-innovativa, specializzata nello sviluppo di prodotti e soluzioni proprietarie nell'ambito data science, machine learning, math modeling development ed intelligenza artificiale.\n\u001b[0;32m      2\u001b[0m '''\n\u001b[1;32m----> 3\u001b[1;33m \u001b[1;32mwith\u001b[0m \u001b[0mopen\u001b[0m\u001b[1;33m(\u001b[0m\u001b[1;34m\"full_experience.txt\"\u001b[0m\u001b[1;33m,\u001b[0m \u001b[1;34m\"r\"\u001b[0m\u001b[1;33m)\u001b[0m \u001b[1;32mas\u001b[0m \u001b[0mfile\u001b[0m\u001b[1;33m:\u001b[0m\u001b[1;33m\u001b[0m\u001b[1;33m\u001b[0m\u001b[0m\n\u001b[0m\u001b[0;32m      4\u001b[0m     \u001b[0mactual_experience\u001b[0m \u001b[1;33m=\u001b[0m \u001b[0mfile\u001b[0m\u001b[1;33m.\u001b[0m\u001b[0mread\u001b[0m\u001b[1;33m(\u001b[0m\u001b[1;33m)\u001b[0m\u001b[1;33m\u001b[0m\u001b[1;33m\u001b[0m\u001b[0m\n\u001b[0;32m      5\u001b[0m \u001b[1;32mwith\u001b[0m \u001b[0mopen\u001b[0m\u001b[1;33m(\u001b[0m\u001b[1;34m\"example_profile.txt\"\u001b[0m\u001b[1;33m,\u001b[0m \u001b[1;34m\"r\"\u001b[0m\u001b[1;33m)\u001b[0m \u001b[1;32mas\u001b[0m \u001b[0mfile\u001b[0m\u001b[1;33m:\u001b[0m\u001b[1;33m\u001b[0m\u001b[1;33m\u001b[0m\u001b[0m\n",
      "\u001b[1;31mFileNotFoundError\u001b[0m: [Errno 2] No such file or directory: 'full_experience.txt'"
     ]
    }
   ],
   "source": [
    "job_description = '''Sto gestendo una posizione per una figura di Team Leader per conto di una realtà finale ultra-innovativa, specializzata nello sviluppo di prodotti e soluzioni proprietarie nell'ambito data science, machine learning, math modeling development ed intelligenza artificiale.\n",
    "'''\n",
    "with open(\"full_experience.txt\", \"r\") as file:\n",
    "    actual_experience = file.read()\n",
    "with open(\"example_profile.txt\", \"r\") as file:\n",
    "    example = file.read()"
   ]
  },
  {
   "cell_type": "code",
   "execution_count": null,
   "metadata": {},
   "outputs": [
    {
     "name": "stdout",
     "output_type": "stream",
     "text": [
      "You are a resume expert and you will write the section of a resume based on actual experience and tuned for the job description that the user asks.\n",
      "You will produce the following outputs:\n",
      "#PROFILE: high level presentation of candidate tuned for the job description (max 100 words).\n",
      "#MANAGER PROJECTS: select and rephrase main projects inherent for the job description among the manager ones (max 3 points).\n",
      "#SENIOR DATA SCIENTIST PROJECTS: select and rephrase main projects inherent for the job description among the senior data scientist ones (max 3 points).\n",
      "#RESEARCH FELLOW PROJECTS: select and rephrase main projects inherent for the job description among the research fellow ones (max 3 points).\n",
      "#KEY WORDS: key words related to actual experience and tuned for the job description (max 5 keywords).\n",
      "\n",
      "The candidate's actual experience is the following:\n",
      "profile:\n",
      "formation: PhD cum Laude in Nuclear and Energy Science and Engineering, Master degree in Nuclear Engineering \n",
      "known technical instruments: Python (Keras, Pytorch, Pandas, scikit-learn, OpenAI, HuggingFace, ...), C++, Matlab, Labview, \n",
      "experience with cloud providers: Google Cloud Platform, Amazon Web Service, Microsoft Azure\n",
      "experience: end-to-end AI systems development, junior resources management\n",
      "\n",
      "manager projects:\n",
      "* Custom ChatBot development, based on Large Language Models (OpenAI, HuggingFace), for a famous newspaper.\n",
      "* Anomaly detection for telecommunication industry using probabilistic recurrent neural networks.\n",
      "* HR advanced analytics for E&U society, classification of misused contracts using large language model.\n",
      "* Develop of an AI interface to semantically search and cluster laws from scraped websites. \n",
      "\n",
      "senior data scientist projects: \n",
      "* Self-supervised pattern extraction from customers of a trading platform, through multi-modal multi-task variational autoencoders. \n",
      "* Data Science guidelines definition (coding, MLOps, governance) for Energy & Utilities industry. \n",
      "* Long-term budget forecasting and industrialization on cloud (Google Cloud Platform) for Telco industry.\n",
      "* Generative AI projects developmenment, consisting in empowering articles with new content and reblending actual content in new forms, for a famous newspaper\n",
      "* Data pipeline implementation with Palantir Foundry platform in the field of Financial Services.\n",
      "\n",
      "research fellow projects:\n",
      "* Study of the laser-plasma interaction with numerical simulations and theoretical models.\n",
      "* Writing publications in peer-review international journals and presenting results in international conferences.\n",
      "* Carry out experiments of laser-plasma acceleration in collaboration with international facilities.\n",
      "* Presentation of results at international conferences.\n",
      "* Teach physics to first year engineering students.\n",
      "* Design and realization of nanostructured materials with advanced techniques.\n",
      "\n",
      "\n",
      "\n",
      "Note: Do not invet informations, just rephrase actual experience to meet the job description. Create the output in English.\n",
      "\n",
      "Here an example of the desired output:\n",
      "#PROFILE: [profile description]\n",
      "\n",
      "#MANAGER PROJECTS:\n",
      "* [manager project 1 description]\n",
      "* [manager project 2 description]\n",
      "* [manager project 3 description]\n",
      "\n",
      "#SENIOR DATA SCIENTIST PROJECTS:\n",
      "* [senior data scientist project 1 description]\n",
      "* [senior data scientist project 2 description]\n",
      "* [senior data scientist project 3 description]\n",
      "\n",
      "#RESEARCH FELLOW PROJECTS:\n",
      "* [research fellow project 1 description]\n",
      "* [research fellow project 2 description]\n",
      "* [research fellow project 3 description]\n",
      "\n",
      "#KEY WORDS:\n",
      "* [keyword 1]\n",
      "* [keyword 2]\n",
      "* [keyword 3]\n",
      "* [keyword 4]\n",
      "* [keyword 5]\n",
      "\n",
      "\n",
      "Write the candidate's resume in English for the following job description:\n",
      "Sto gestendo una posizione per una figura di Team Leader per conto di una realtà finale ultra-innovativa, specializzata nello sviluppo di prodotti e soluzioni proprietarie nell'ambito data science, machine learning, math modeling development ed intelligenza artificiale.\n",
      "\n",
      "\n"
     ]
    }
   ],
   "source": [
    "system_prompt = '''You are a resume expert and you will write the section of a resume based on actual experience and tuned for the job description that the user asks.\n",
    "You will produce the following outputs:\n",
    "#PROFILE: high level presentation of candidate tuned for the job description (max 100 words).\n",
    "#MANAGER PROJECTS: select and rephrase main projects inherent for the job description among the manager ones (max 3 points).\n",
    "#SENIOR DATA SCIENTIST PROJECTS: select and rephrase main projects inherent for the job description among the senior data scientist ones (max 3 points).\n",
    "#RESEARCH FELLOW PROJECTS: select and rephrase main projects inherent for the job description among the research fellow ones (max 3 points).\n",
    "#KEY WORDS: key words related to actual experience and tuned for the job description (max 5 keywords).\n",
    "\n",
    "The candidate's actual experience is the following:\n",
    "{}\n",
    "\n",
    "Note: Do not invet informations, just rephrase actual experience to meet the job description. Create the output in English.\n",
    "'''.format(actual_experience)\n",
    "print(system_prompt)\n",
    "assistant_prompt = '''Here an example of the desired output:\n",
    "{}\n",
    "'''.format(example)\n",
    "print(assistant_prompt)\n",
    "user_prompt = '''\n",
    "Write the candidate's resume in English for the following job description:\n",
    "{}\n",
    "'''.format(job_description)\n",
    "print(user_prompt)"
   ]
  },
  {
   "cell_type": "code",
   "execution_count": null,
   "metadata": {},
   "outputs": [
    {
     "name": "stdout",
     "output_type": "stream",
     "text": [
      "#PROFILE: \n",
      "Highly skilled and experienced Team Leader with a strong background in data science, machine learning, math modeling development, and artificial intelligence. Proven track record in managing teams and delivering innovative solutions. \n",
      "\n",
      "#MANAGER PROJECTS:\n",
      "* Led the development of a custom ChatBot for a leading newspaper, utilizing state-of-the-art language models (OpenAI, HuggingFace).\n",
      "* Successfully implemented anomaly detection for the telecommunications industry using probabilistic recurrent neural networks.\n",
      "* Managed the HR advanced analytics project for an Energy & Utilities society, leveraging large language models for the classification of misused contracts.\n",
      "\n",
      "#SENIOR DATA SCIENTIST PROJECTS:\n",
      "* Conducted self-supervised pattern extraction from customers of a trading platform, employing multi-modal multi-task variational autoencoders.\n",
      "* Defined data science guidelines (coding, MLOps, governance) for the Energy & Utilities industry.\n",
      "* Developed long-term budget forecasting and industrialization on cloud platforms (Google Cloud Platform) for the Telco industry.\n",
      "\n",
      "#RESEARCH FELLOW PROJECTS:\n",
      "* Conducted extensive numerical simulations and theoretical modeling to study laser-plasma interaction.\n",
      "* Published research findings in peer-reviewed international journals and presented results at international conferences.\n",
      "* Collaborated with international facilities to carry out experiments on laser-plasma acceleration.\n",
      "\n",
      "#KEY WORDS:\n",
      "* Team Leadership\n",
      "* Data Science\n",
      "* Machine Learning\n",
      "* Math Modeling Development\n",
      "* Artificial Intelligence\n"
     ]
    }
   ],
   "source": [
    "import os\n",
    "import openai\n",
    "\n",
    "openai.api_key = os.getenv(\"OPENAI_API_KEY\")\n",
    "\n",
    "messages = [\n",
    "    {\"role\": \"system\", \"content\": system_prompt},\n",
    "    {\"role\": \"assistant\", \"content\": assistant_prompt},\n",
    "    {\"role\": \"user\", \"content\": user_prompt}\n",
    "]\n",
    "response = openai.ChatCompletion.create(\n",
    "  model=\"gpt-3.5-turbo\",\n",
    "  messages=messages,\n",
    "  temperature=0.5,\n",
    "  max_tokens=1024\n",
    ")\n",
    "output = response['choices'][0]['message']['content']\n",
    "\n",
    "print(output)"
   ]
  },
  {
   "cell_type": "code",
   "execution_count": null,
   "metadata": {},
   "outputs": [
    {
     "data": {
      "text/plain": [
       "'#PROFILE: \\nHighly skilled and experienced Team Leader with a strong background in data science, machine learning, math modeling development, and artificial intelligence. Proven track record in managing teams and delivering innovative solutions. \\n\\n###* Led the development of a custom ChatBot for a leading newspaper, utilizing state-of-the-art language models (OpenAI, HuggingFace).\\n* Successfully implemented anomaly detection for the telecommunications industry using probabilistic recurrent neural networks.\\n* Managed the HR advanced analytics project for an Energy & Utilities society, leveraging large language models for the classification of misused contracts.\\n\\n###* Conducted self-supervised pattern extraction from customers of a trading platform, employing multi-modal multi-task variational autoencoders.\\n* Defined data science guidelines (coding, MLOps, governance) for the Energy & Utilities industry.\\n* Developed long-term budget forecasting and industrialization on cloud platforms (Google Cloud Platform) for the Telco industry.\\n\\n###* Conducted extensive numerical simulations and theoretical modeling to study laser-plasma interaction.\\n* Published research findings in peer-reviewed international journals and presented results at international conferences.\\n* Collaborated with international facilities to carry out experiments on laser-plasma acceleration.\\n\\n###* Team Leadership\\n* Data Science\\n* Machine Learning\\n* Math Modeling Development\\n* Artificial Intelligence'"
      ]
     },
     "execution_count": 109,
     "metadata": {},
     "output_type": "execute_result"
    }
   ],
   "source": [
    "output"
   ]
  },
  {
   "cell_type": "code",
   "execution_count": null,
   "metadata": {},
   "outputs": [],
   "source": [
    "splits = ['#PROFILE:', '#MANAGER PROJECTS:', '#SENIOR DATA SCIENTIST PROJECTS:', \n",
    "    '#RESEARCH FELLOW PROJECTS:', '#KEY WORDS:']\n",
    "for split in splits:\n",
    "    output = output.replace(split, '###')\n",
    "output_list = output.split('###')[1:]\n",
    "\n",
    "out_dict = {}\n",
    "for split, o in zip(splits, output_list):\n",
    "    section_name = split.replace(':', '').replace(' ', '').replace('\\n', '')\n",
    "    if o[0] == '*':\n",
    "        subsplits = o.split('* ')[1:]\n",
    "        for i, subsplit in enumerate(subsplits):\n",
    "            out_dict[section_name+str(i+1)] = subsplit.replace('\\n', '')\n",
    "    else:\n",
    "        out_dict[section_name] = o.replace('\\n', '').lstrip()"
   ]
  },
  {
   "cell_type": "code",
   "execution_count": null,
   "metadata": {},
   "outputs": [
    {
     "data": {
      "text/plain": [
       "{'#PROFILE': 'Highly skilled and experienced Team Leader with a strong background in data science, machine learning, math modeling development, and artificial intelligence. Proven track record in managing teams and delivering innovative solutions. ',\n",
       " '#MANAGERPROJECTS1': 'Led the development of a custom ChatBot for a leading newspaper, utilizing state-of-the-art language models (OpenAI, HuggingFace).',\n",
       " '#MANAGERPROJECTS2': 'Successfully implemented anomaly detection for the telecommunications industry using probabilistic recurrent neural networks.',\n",
       " '#MANAGERPROJECTS3': 'Managed the HR advanced analytics project for an Energy & Utilities society, leveraging large language models for the classification of misused contracts.',\n",
       " '#SENIORDATASCIENTISTPROJECTS1': 'Conducted self-supervised pattern extraction from customers of a trading platform, employing multi-modal multi-task variational autoencoders.',\n",
       " '#SENIORDATASCIENTISTPROJECTS2': 'Defined data science guidelines (coding, MLOps, governance) for the Energy & Utilities industry.',\n",
       " '#SENIORDATASCIENTISTPROJECTS3': 'Developed long-term budget forecasting and industrialization on cloud platforms (Google Cloud Platform) for the Telco industry.',\n",
       " '#RESEARCHFELLOWPROJECTS1': 'Conducted extensive numerical simulations and theoretical modeling to study laser-plasma interaction.',\n",
       " '#RESEARCHFELLOWPROJECTS2': 'Published research findings in peer-reviewed international journals and presented results at international conferences.',\n",
       " '#RESEARCHFELLOWPROJECTS3': 'Collaborated with international facilities to carry out experiments on laser-plasma acceleration.',\n",
       " '#KEYWORDS1': 'Team Leadership',\n",
       " '#KEYWORDS2': 'Data Science',\n",
       " '#KEYWORDS3': 'Machine Learning',\n",
       " '#KEYWORDS4': 'Math Modeling Development',\n",
       " '#KEYWORDS5': 'Artificial Intelligence'}"
      ]
     },
     "execution_count": 121,
     "metadata": {},
     "output_type": "execute_result"
    }
   ],
   "source": [
    "out_dict"
   ]
  },
  {
   "cell_type": "code",
   "execution_count": null,
   "metadata": {},
   "outputs": [],
   "source": [
    "from docx import Document\n",
    "from datetime import date\n",
    "import re\n",
    "\n",
    "\n",
    "def docx_replace_regex(doc_obj, regex, replace):\n",
    "\n",
    "    for p in doc_obj.paragraphs:\n",
    "        if regex in p.text:\n",
    "            p.text = p.text.replace(regex, replace)\n",
    "\n",
    "    # for obj in doc_obj.inline_shapes:\n",
    "    #     if regex in obj.text:\n",
    "    #         obj.text = obj.text.replace(regex, replace)\n",
    "\n",
    "    for table in doc_obj.tables:\n",
    "        for row in table.rows:\n",
    "            for cell in row.cells:\n",
    "                docx_replace_regex(cell, regex, replace)\n",
    "\n",
    "document = Document('CV_APazzaglia_template.docx')\n",
    "for key in out_dict:\n",
    "    replace_text = out_dict[key]\n",
    "    docx_replace_regex(document, key, replace_text)\n",
    "\n",
    "document.save('outputs/CV_APazzaglia_{}.docx'.format(date.today()))"
   ]
  }
 ],
 "metadata": {
  "kernelspec": {
   "display_name": "Python 3",
   "language": "python",
   "name": "python3"
  },
  "language_info": {
   "codemirror_mode": {
    "name": "ipython",
    "version": 3
   },
   "file_extension": ".py",
   "mimetype": "text/x-python",
   "name": "python",
   "nbconvert_exporter": "python",
   "pygments_lexer": "ipython3",
   "version": "3.9.5"
  },
  "orig_nbformat": 4
 },
 "nbformat": 4,
 "nbformat_minor": 2
}
